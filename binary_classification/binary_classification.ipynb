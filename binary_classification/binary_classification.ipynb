{
 "cells": [
  {
   "cell_type": "code",
   "execution_count": 5,
   "metadata": {},
   "outputs": [
    {
     "name": "stderr",
     "output_type": "stream",
     "text": [
      "Using TensorFlow backend.\n"
     ]
    },
    {
     "data": {
      "text/plain": [
       "'2.2.4'"
      ]
     },
     "execution_count": 5,
     "metadata": {},
     "output_type": "execute_result"
    }
   ],
   "source": [
    "import keras \n",
    "keras.__version__"
   ]
  },
  {
   "cell_type": "markdown",
   "metadata": {},
   "source": [
    "# Classifying movie reviews: a binary classification example\n",
    "\n",
    "This notebook contains the code samples found in Chapter 3, Section 5 of [Deep Learning with Python](https://www.manning.com/books/deep-learning-with-python?a_aid=keras&a_bid=76564dff). Note that the original text features far more content, in particular further explanations and figures: in this notebook, you will only find source code and related comments.\n",
    "\n",
    "----\n",
    "\n",
    "\n",
    "Two-class classification, or binary classification, may be the most widely applied kind of machine learning problem. In this example, we \n",
    "will learn to classify movie reviews into \"positive\" reviews and \"negative\" reviews, just based on the text content of the reviews."
   ]
  },
  {
   "cell_type": "markdown",
   "metadata": {},
   "source": [
    "## The IMDB dataset\n",
    "\n",
    "\n",
    "We'll be working with \"IMDB dataset\", a set of 50,000 highly-polarized reviews from the Internet Movie Database. They are split into 25,000 \n",
    "reviews for training and 25,000 reviews for testing, each set consisting in 50% negative and 50% positive reviews.\n",
    "\n",
    "Why do we have these two separate training and test sets? You should never test a machine learning model on the same data that you used to \n",
    "train it! Just because a model performs well on its training data doesn't mean that it will perform well on data it has never seen, and \n",
    "what you actually care about is your model's performance on new data (since you already know the labels of your training data -- obviously \n",
    "you don't need your model to predict those). For instance, it is possible that your model could end up merely _memorizing_ a mapping between \n",
    "your training samples and their targets -- which would be completely useless for the task of predicting targets for data never seen before. \n",
    "We will go over this point in much more detail in the next chapter.\n",
    "\n",
    "Just like the MNIST dataset, the IMDB dataset comes packaged with Keras. It has already been preprocessed: the reviews (sequences of words) \n",
    "have been turned into sequences of integers, where each integer stands for a specific word in a dictionary.\n",
    "\n",
    "The following code will load the dataset (when you run it for the first time, about 80MB of data will be downloaded to your machine):"
   ]
  },
  {
   "cell_type": "code",
   "execution_count": 6,
   "metadata": {},
   "outputs": [
    {
     "name": "stdout",
     "output_type": "stream",
     "text": [
      "Downloading data from https://s3.amazonaws.com/text-datasets/imdb.npz\n",
      "17465344/17464789 [==============================] - 4s 0us/step\n"
     ]
    }
   ],
   "source": [
    "from keras.datasets import imdb\n",
    "\n",
    "(train_data, train_labels), (test_data, test_labels) = imdb.load_data(num_words=10000)"
   ]
  },
  {
   "cell_type": "markdown",
   "metadata": {},
   "source": [
    "\n",
    "The argument `num_words=10000` means that we will only keep the top 10,000 most frequently occurring words in the training data. Rare words \n",
    "will be discarded. This allows us to work with vector data of manageable size.\n",
    "\n",
    "The variables `train_data` and `test_data` are lists of reviews, each review being a list of word indices (encoding a sequence of words). \n",
    "`train_labels` and `test_labels` are lists of 0s and 1s, where 0 stands for \"negative\" and 1 stands for \"positive\":"
   ]
  },
  {
   "cell_type": "code",
   "execution_count": 7,
   "metadata": {},
   "outputs": [
    {
     "data": {
      "text/plain": [
       "[1,\n",
       " 14,\n",
       " 22,\n",
       " 16,\n",
       " 43,\n",
       " 530,\n",
       " 973,\n",
       " 1622,\n",
       " 1385,\n",
       " 65,\n",
       " 458,\n",
       " 4468,\n",
       " 66,\n",
       " 3941,\n",
       " 4,\n",
       " 173,\n",
       " 36,\n",
       " 256,\n",
       " 5,\n",
       " 25,\n",
       " 100,\n",
       " 43,\n",
       " 838,\n",
       " 112,\n",
       " 50,\n",
       " 670,\n",
       " 2,\n",
       " 9,\n",
       " 35,\n",
       " 480,\n",
       " 284,\n",
       " 5,\n",
       " 150,\n",
       " 4,\n",
       " 172,\n",
       " 112,\n",
       " 167,\n",
       " 2,\n",
       " 336,\n",
       " 385,\n",
       " 39,\n",
       " 4,\n",
       " 172,\n",
       " 4536,\n",
       " 1111,\n",
       " 17,\n",
       " 546,\n",
       " 38,\n",
       " 13,\n",
       " 447,\n",
       " 4,\n",
       " 192,\n",
       " 50,\n",
       " 16,\n",
       " 6,\n",
       " 147,\n",
       " 2025,\n",
       " 19,\n",
       " 14,\n",
       " 22,\n",
       " 4,\n",
       " 1920,\n",
       " 4613,\n",
       " 469,\n",
       " 4,\n",
       " 22,\n",
       " 71,\n",
       " 87,\n",
       " 12,\n",
       " 16,\n",
       " 43,\n",
       " 530,\n",
       " 38,\n",
       " 76,\n",
       " 15,\n",
       " 13,\n",
       " 1247,\n",
       " 4,\n",
       " 22,\n",
       " 17,\n",
       " 515,\n",
       " 17,\n",
       " 12,\n",
       " 16,\n",
       " 626,\n",
       " 18,\n",
       " 2,\n",
       " 5,\n",
       " 62,\n",
       " 386,\n",
       " 12,\n",
       " 8,\n",
       " 316,\n",
       " 8,\n",
       " 106,\n",
       " 5,\n",
       " 4,\n",
       " 2223,\n",
       " 5244,\n",
       " 16,\n",
       " 480,\n",
       " 66,\n",
       " 3785,\n",
       " 33,\n",
       " 4,\n",
       " 130,\n",
       " 12,\n",
       " 16,\n",
       " 38,\n",
       " 619,\n",
       " 5,\n",
       " 25,\n",
       " 124,\n",
       " 51,\n",
       " 36,\n",
       " 135,\n",
       " 48,\n",
       " 25,\n",
       " 1415,\n",
       " 33,\n",
       " 6,\n",
       " 22,\n",
       " 12,\n",
       " 215,\n",
       " 28,\n",
       " 77,\n",
       " 52,\n",
       " 5,\n",
       " 14,\n",
       " 407,\n",
       " 16,\n",
       " 82,\n",
       " 2,\n",
       " 8,\n",
       " 4,\n",
       " 107,\n",
       " 117,\n",
       " 5952,\n",
       " 15,\n",
       " 256,\n",
       " 4,\n",
       " 2,\n",
       " 7,\n",
       " 3766,\n",
       " 5,\n",
       " 723,\n",
       " 36,\n",
       " 71,\n",
       " 43,\n",
       " 530,\n",
       " 476,\n",
       " 26,\n",
       " 400,\n",
       " 317,\n",
       " 46,\n",
       " 7,\n",
       " 4,\n",
       " 2,\n",
       " 1029,\n",
       " 13,\n",
       " 104,\n",
       " 88,\n",
       " 4,\n",
       " 381,\n",
       " 15,\n",
       " 297,\n",
       " 98,\n",
       " 32,\n",
       " 2071,\n",
       " 56,\n",
       " 26,\n",
       " 141,\n",
       " 6,\n",
       " 194,\n",
       " 7486,\n",
       " 18,\n",
       " 4,\n",
       " 226,\n",
       " 22,\n",
       " 21,\n",
       " 134,\n",
       " 476,\n",
       " 26,\n",
       " 480,\n",
       " 5,\n",
       " 144,\n",
       " 30,\n",
       " 5535,\n",
       " 18,\n",
       " 51,\n",
       " 36,\n",
       " 28,\n",
       " 224,\n",
       " 92,\n",
       " 25,\n",
       " 104,\n",
       " 4,\n",
       " 226,\n",
       " 65,\n",
       " 16,\n",
       " 38,\n",
       " 1334,\n",
       " 88,\n",
       " 12,\n",
       " 16,\n",
       " 283,\n",
       " 5,\n",
       " 16,\n",
       " 4472,\n",
       " 113,\n",
       " 103,\n",
       " 32,\n",
       " 15,\n",
       " 16,\n",
       " 5345,\n",
       " 19,\n",
       " 178,\n",
       " 32]"
      ]
     },
     "execution_count": 7,
     "metadata": {},
     "output_type": "execute_result"
    }
   ],
   "source": [
    "train_data[0]"
   ]
  },
  {
   "cell_type": "code",
   "execution_count": 8,
   "metadata": {},
   "outputs": [
    {
     "data": {
      "text/plain": [
       "1"
      ]
     },
     "execution_count": 8,
     "metadata": {},
     "output_type": "execute_result"
    }
   ],
   "source": [
    "train_labels[0]"
   ]
  },
  {
   "cell_type": "markdown",
   "metadata": {},
   "source": [
    "Since we restricted ourselves to the top 10,000 most frequent words, no word index will exceed 10,000:"
   ]
  },
  {
   "cell_type": "code",
   "execution_count": 9,
   "metadata": {},
   "outputs": [
    {
     "data": {
      "text/plain": [
       "9999"
      ]
     },
     "execution_count": 9,
     "metadata": {},
     "output_type": "execute_result"
    }
   ],
   "source": [
    "max([max(sequence) for sequence in train_data])"
   ]
  },
  {
   "cell_type": "markdown",
   "metadata": {},
   "source": [
    "For kicks, here's how you can quickly decode one of these reviews back to English words:"
   ]
  },
  {
   "cell_type": "code",
   "execution_count": 10,
   "metadata": {},
   "outputs": [
    {
     "name": "stdout",
     "output_type": "stream",
     "text": [
      "Downloading data from https://s3.amazonaws.com/text-datasets/imdb_word_index.json\n",
      "1646592/1641221 [==============================] - 0s 0us/step\n"
     ]
    }
   ],
   "source": [
    "# word_index is a dictionary mapping words to an integer index\n",
    "word_index = imdb.get_word_index()\n",
    "# We reverse it, mapping integer indices to words\n",
    "reverse_word_index = dict([(value, key) for (key, value) in word_index.items()])\n",
    "# We decode the review; note that our indices were offset by 3\n",
    "# because 0, 1 and 2 are reserved indices for \"padding\", \"start of sequence\", and \"unknown\".\n",
    "decoded_review = ' '.join([reverse_word_index.get(i - 3, '?') for i in train_data[0]])"
   ]
  },
  {
   "cell_type": "code",
   "execution_count": 11,
   "metadata": {},
   "outputs": [
    {
     "data": {
      "text/plain": [
       "\"? this film was just brilliant casting location scenery story direction everyone's really suited the part they played and you could just imagine being there robert ? is an amazing actor and now the same being director ? father came from the same scottish island as myself so i loved the fact there was a real connection with this film the witty remarks throughout the film were great it was just brilliant so much that i bought the film as soon as it was released for ? and would recommend it to everyone to watch and the fly fishing was amazing really cried at the end it was so sad and you know what they say if you cry at a film it must have been good and this definitely was also ? to the two little boy's that played the ? of norman and paul they were just brilliant children are often left out of the ? list i think because the stars that play them all grown up are such a big profile for the whole film but these children are amazing and should be praised for what they have done don't you think the whole story was so lovely because it was true and was someone's life after all that was shared with us all\""
      ]
     },
     "execution_count": 11,
     "metadata": {},
     "output_type": "execute_result"
    }
   ],
   "source": [
    "decoded_review"
   ]
  },
  {
   "cell_type": "markdown",
   "metadata": {},
   "source": [
    "## Preparing the data\n",
    "\n",
    "\n",
    "We cannot feed lists of integers into a neural network. We have to turn our lists into tensors. There are two ways we could do that:\n",
    "\n",
    "* We could pad our lists so that they all have the same length, and turn them into an integer tensor of shape `(samples, word_indices)`, \n",
    "then use as first layer in our network a layer capable of handling such integer tensors (the `Embedding` layer, which we will cover in \n",
    "detail later in the book).\n",
    "* We could one-hot-encode our lists to turn them into vectors of 0s and 1s. Concretely, this would mean for instance turning the sequence \n",
    "`[3, 5]` into a 10,000-dimensional vector that would be all-zeros except for indices 3 and 5, which would be ones. Then we could use as \n",
    "first layer in our network a `Dense` layer, capable of handling floating point vector data.\n",
    "\n",
    "We will go with the latter solution. Let's vectorize our data, which we will do manually for maximum clarity:"
   ]
  },
  {
   "cell_type": "code",
   "execution_count": 12,
   "metadata": {},
   "outputs": [],
   "source": [
    "import numpy as np\n",
    "\n",
    "def vectorize_sequences(sequences, dimension=10000):\n",
    "    # Create an all-zero matrix of shape (len(sequences), dimension)\n",
    "    results = np.zeros((len(sequences), dimension))\n",
    "    for i, sequence in enumerate(sequences):\n",
    "        results[i, sequence] = 1.  # set specific indices of results[i] to 1s\n",
    "    return results\n",
    "\n",
    "# Our vectorized training data\n",
    "x_train = vectorize_sequences(train_data)\n",
    "# Our vectorized test data\n",
    "x_test = vectorize_sequences(test_data)"
   ]
  },
  {
   "cell_type": "markdown",
   "metadata": {},
   "source": [
    "Here's what our samples look like now:"
   ]
  },
  {
   "cell_type": "code",
   "execution_count": 13,
   "metadata": {},
   "outputs": [
    {
     "data": {
      "text/plain": [
       "array([0., 1., 1., ..., 0., 0., 0.])"
      ]
     },
     "execution_count": 13,
     "metadata": {},
     "output_type": "execute_result"
    }
   ],
   "source": [
    "x_train[0]"
   ]
  },
  {
   "cell_type": "markdown",
   "metadata": {},
   "source": [
    "We should also vectorize our labels, which is straightforward:"
   ]
  },
  {
   "cell_type": "code",
   "execution_count": 14,
   "metadata": {},
   "outputs": [],
   "source": [
    "# Our vectorized labels\n",
    "y_train = np.asarray(train_labels).astype('float32')\n",
    "y_test = np.asarray(test_labels).astype('float32')"
   ]
  },
  {
   "cell_type": "markdown",
   "metadata": {},
   "source": [
    "Now our data is ready to be fed into a neural network."
   ]
  },
  {
   "cell_type": "markdown",
   "metadata": {},
   "source": [
    "## Building our network\n",
    "\n",
    "\n",
    "Our input data is simply vectors, and our labels are scalars (1s and 0s): this is the easiest setup you will ever encounter. A type of \n",
    "network that performs well on such a problem would be a simple stack of fully-connected (`Dense`) layers with `relu` activations: `Dense(16, \n",
    "activation='relu')`\n",
    "\n",
    "The argument being passed to each `Dense` layer (16) is the number of \"hidden units\" of the layer. What's a hidden unit? It's a dimension \n",
    "in the representation space of the layer. You may remember from the previous chapter that each such `Dense` layer with a `relu` activation implements \n",
    "the following chain of tensor operations:\n",
    "\n",
    "`output = relu(dot(W, input) + b)`\n",
    "\n",
    "Having 16 hidden units means that the weight matrix `W` will have shape `(input_dimension, 16)`, i.e. the dot product with `W` will project the \n",
    "input data onto a 16-dimensional representation space (and then we would add the bias vector `b` and apply the `relu` operation). You can \n",
    "intuitively understand the dimensionality of your representation space as \"how much freedom you are allowing the network to have when \n",
    "learning internal representations\". Having more hidden units (a higher-dimensional representation space) allows your network to learn more \n",
    "complex representations, but it makes your network more computationally expensive and may lead to learning unwanted patterns (patterns that \n",
    "will improve performance on the training data but not on the test data).\n",
    "\n",
    "There are two key architecture decisions to be made about such stack of dense layers:\n",
    "\n",
    "* How many layers to use.\n",
    "* How many \"hidden units\" to chose for each layer.\n",
    "\n",
    "In the next chapter, you will learn formal principles to guide you in making these choices. \n",
    "For the time being, you will have to trust us with the following architecture choice: \n",
    "two intermediate layers with 16 hidden units each, \n",
    "and a third layer which will output the scalar prediction regarding the sentiment of the current review. \n",
    "The intermediate layers will use `relu` as their \"activation function\", \n",
    "and the final layer will use a sigmoid activation so as to output a probability \n",
    "(a score between 0 and 1, indicating how likely the sample is to have the target \"1\", i.e. how likely the review is to be positive). \n",
    "A `relu` (rectified linear unit) is a function meant to zero-out negative values, \n",
    "while a sigmoid \"squashes\" arbitrary values into the `[0, 1]` interval, thus outputting something that can be interpreted as a probability."
   ]
  },
  {
   "cell_type": "markdown",
   "metadata": {},
   "source": [
    "Here's what our network looks like:\n",
    "\n",
    "![3-layer network](https://s3.amazonaws.com/book.keras.io/img/ch3/3_layer_network.png)"
   ]
  },
  {
   "cell_type": "markdown",
   "metadata": {},
   "source": [
    "And here's the Keras implementation, very similar to the MNIST example you saw previously:"
   ]
  },
  {
   "cell_type": "code",
   "execution_count": 15,
   "metadata": {},
   "outputs": [
    {
     "name": "stdout",
     "output_type": "stream",
     "text": [
      "WARNING:tensorflow:From C:\\Users\\azhao\\AppData\\Local\\Continuum\\anaconda3\\lib\\site-packages\\keras\\backend\\tensorflow_backend.py:74: The name tf.get_default_graph is deprecated. Please use tf.compat.v1.get_default_graph instead.\n",
      "\n",
      "WARNING:tensorflow:From C:\\Users\\azhao\\AppData\\Local\\Continuum\\anaconda3\\lib\\site-packages\\keras\\backend\\tensorflow_backend.py:517: The name tf.placeholder is deprecated. Please use tf.compat.v1.placeholder instead.\n",
      "\n",
      "WARNING:tensorflow:From C:\\Users\\azhao\\AppData\\Local\\Continuum\\anaconda3\\lib\\site-packages\\keras\\backend\\tensorflow_backend.py:4138: The name tf.random_uniform is deprecated. Please use tf.random.uniform instead.\n",
      "\n"
     ]
    }
   ],
   "source": [
    "from keras import models\n",
    "from keras import layers\n",
    "\n",
    "model = models.Sequential()\n",
    "model.add(layers.Dense(16, activation='relu', input_shape=(10000,)))\n",
    "model.add(layers.Dense(16, activation='relu'))\n",
    "model.add(layers.Dense(1, activation='sigmoid'))"
   ]
  },
  {
   "cell_type": "markdown",
   "metadata": {},
   "source": [
    "\n",
    "Lastly, we need to pick a loss function and an optimizer. Since we are facing a binary classification problem and the output of our network \n",
    "is a probability (we end our network with a single-unit layer with a sigmoid activation), is it best to use the `binary_crossentropy` loss. \n",
    "It isn't the only viable choice: you could use, for instance, `mean_squared_error`. But crossentropy is usually the best choice when you \n",
    "are dealing with models that output probabilities. Crossentropy is a quantity from the field of Information Theory, that measures the \"distance\" \n",
    "between probability distributions, or in our case, between the ground-truth distribution and our predictions.\n",
    "\n",
    "Here's the step where we configure our model with the `rmsprop` optimizer and the `binary_crossentropy` loss function. Note that we will \n",
    "also monitor accuracy during training."
   ]
  },
  {
   "cell_type": "code",
   "execution_count": 16,
   "metadata": {},
   "outputs": [
    {
     "name": "stdout",
     "output_type": "stream",
     "text": [
      "WARNING:tensorflow:From C:\\Users\\azhao\\AppData\\Local\\Continuum\\anaconda3\\lib\\site-packages\\keras\\optimizers.py:790: The name tf.train.Optimizer is deprecated. Please use tf.compat.v1.train.Optimizer instead.\n",
      "\n",
      "WARNING:tensorflow:From C:\\Users\\azhao\\AppData\\Local\\Continuum\\anaconda3\\lib\\site-packages\\keras\\backend\\tensorflow_backend.py:3376: The name tf.log is deprecated. Please use tf.math.log instead.\n",
      "\n",
      "WARNING:tensorflow:From C:\\Users\\azhao\\AppData\\Local\\Continuum\\anaconda3\\lib\\site-packages\\tensorflow\\python\\ops\\nn_impl.py:180: add_dispatch_support.<locals>.wrapper (from tensorflow.python.ops.array_ops) is deprecated and will be removed in a future version.\n",
      "Instructions for updating:\n",
      "Use tf.where in 2.0, which has the same broadcast rule as np.where\n"
     ]
    }
   ],
   "source": [
    "model.compile(optimizer='rmsprop',\n",
    "              loss='binary_crossentropy',\n",
    "              metrics=['accuracy'])"
   ]
  },
  {
   "cell_type": "markdown",
   "metadata": {},
   "source": [
    "We are passing our optimizer, loss function and metrics as strings, which is possible because `rmsprop`, `binary_crossentropy` and \n",
    "`accuracy` are packaged as part of Keras. Sometimes you may want to configure the parameters of your optimizer, or pass a custom loss \n",
    "function or metric function. This former can be done by passing an optimizer class instance as the `optimizer` argument:"
   ]
  },
  {
   "cell_type": "code",
   "execution_count": 17,
   "metadata": {},
   "outputs": [],
   "source": [
    "from keras import optimizers\n",
    "\n",
    "model.compile(optimizer=optimizers.RMSprop(lr=0.001),\n",
    "              loss='binary_crossentropy',\n",
    "              metrics=['accuracy'])"
   ]
  },
  {
   "cell_type": "markdown",
   "metadata": {},
   "source": [
    "The latter can be done by passing function objects as the `loss` or `metrics` arguments:"
   ]
  },
  {
   "cell_type": "code",
   "execution_count": 18,
   "metadata": {},
   "outputs": [],
   "source": [
    "from keras import losses\n",
    "from keras import metrics\n",
    "\n",
    "model.compile(optimizer=optimizers.RMSprop(lr=0.001),\n",
    "              loss=losses.binary_crossentropy,\n",
    "              metrics=[metrics.binary_accuracy])"
   ]
  },
  {
   "cell_type": "markdown",
   "metadata": {},
   "source": [
    "## Validating our approach\n",
    "\n",
    "In order to monitor during training the accuracy of the model on data that it has never seen before, we will create a \"validation set\" by \n",
    "setting apart 10,000 samples from the original training data:"
   ]
  },
  {
   "cell_type": "code",
   "execution_count": 19,
   "metadata": {},
   "outputs": [],
   "source": [
    "x_val = x_train[:10000]\n",
    "partial_x_train = x_train[10000:]\n",
    "\n",
    "y_val = y_train[:10000]\n",
    "partial_y_train = y_train[10000:]"
   ]
  },
  {
   "cell_type": "markdown",
   "metadata": {
    "collapsed": true
   },
   "source": [
    "We will now train our model for 20 epochs (20 iterations over all samples in the `x_train` and `y_train` tensors), in mini-batches of 512 \n",
    "samples. At this same time we will monitor loss and accuracy on the 10,000 samples that we set apart. This is done by passing the \n",
    "validation data as the `validation_data` argument:"
   ]
  },
  {
   "cell_type": "code",
   "execution_count": 20,
   "metadata": {},
   "outputs": [
    {
     "name": "stdout",
     "output_type": "stream",
     "text": [
      "WARNING:tensorflow:From C:\\Users\\azhao\\AppData\\Local\\Continuum\\anaconda3\\lib\\site-packages\\keras\\backend\\tensorflow_backend.py:986: The name tf.assign_add is deprecated. Please use tf.compat.v1.assign_add instead.\n",
      "\n",
      "Train on 15000 samples, validate on 10000 samples\n",
      "Epoch 1/20\n",
      "15000/15000 [==============================] - 4s 264us/step - loss: 0.5075 - binary_accuracy: 0.7832 - val_loss: 0.3791 - val_binary_accuracy: 0.8701\n",
      "Epoch 2/20\n",
      "15000/15000 [==============================] - 3s 193us/step - loss: 0.3003 - binary_accuracy: 0.9049 - val_loss: 0.3003 - val_binary_accuracy: 0.8897\n",
      "Epoch 3/20\n",
      "15000/15000 [==============================] - 3s 187us/step - loss: 0.2178 - binary_accuracy: 0.9280 - val_loss: 0.3089 - val_binary_accuracy: 0.8714\n",
      "Epoch 4/20\n",
      "15000/15000 [==============================] - 3s 186us/step - loss: 0.1750 - binary_accuracy: 0.9437 - val_loss: 0.2836 - val_binary_accuracy: 0.8840\n",
      "Epoch 5/20\n",
      "15000/15000 [==============================] - 3s 191us/step - loss: 0.1426 - binary_accuracy: 0.9543 - val_loss: 0.2843 - val_binary_accuracy: 0.8870\n",
      "Epoch 6/20\n",
      "15000/15000 [==============================] - 3s 185us/step - loss: 0.1151 - binary_accuracy: 0.9651 - val_loss: 0.3162 - val_binary_accuracy: 0.8775\n",
      "Epoch 7/20\n",
      "15000/15000 [==============================] - 3s 194us/step - loss: 0.0981 - binary_accuracy: 0.9707 - val_loss: 0.3124 - val_binary_accuracy: 0.8844\n",
      "Epoch 8/20\n",
      "15000/15000 [==============================] - 4s 268us/step - loss: 0.0806 - binary_accuracy: 0.9764 - val_loss: 0.3847 - val_binary_accuracy: 0.8658\n",
      "Epoch 9/20\n",
      "15000/15000 [==============================] - 4s 282us/step - loss: 0.0661 - binary_accuracy: 0.9821 - val_loss: 0.3634 - val_binary_accuracy: 0.8786\n",
      "Epoch 10/20\n",
      "15000/15000 [==============================] - 3s 195us/step - loss: 0.0565 - binary_accuracy: 0.9849 - val_loss: 0.3846 - val_binary_accuracy: 0.8798\n",
      "Epoch 11/20\n",
      "15000/15000 [==============================] - 3s 189us/step - loss: 0.0425 - binary_accuracy: 0.9906 - val_loss: 0.4127 - val_binary_accuracy: 0.8779\n",
      "Epoch 12/20\n",
      "15000/15000 [==============================] - 3s 190us/step - loss: 0.0374 - binary_accuracy: 0.9923 - val_loss: 0.4618 - val_binary_accuracy: 0.8676\n",
      "Epoch 13/20\n",
      "15000/15000 [==============================] - 3s 179us/step - loss: 0.0298 - binary_accuracy: 0.9931 - val_loss: 0.4730 - val_binary_accuracy: 0.8727\n",
      "Epoch 14/20\n",
      "15000/15000 [==============================] - 3s 173us/step - loss: 0.0247 - binary_accuracy: 0.9945 - val_loss: 0.5064 - val_binary_accuracy: 0.8718\n",
      "Epoch 15/20\n",
      "15000/15000 [==============================] - 3s 188us/step - loss: 0.0191 - binary_accuracy: 0.9966 - val_loss: 0.5335 - val_binary_accuracy: 0.8713\n",
      "Epoch 16/20\n",
      "15000/15000 [==============================] - 3s 182us/step - loss: 0.0162 - binary_accuracy: 0.9972 - val_loss: 0.5665 - val_binary_accuracy: 0.8690\n",
      "Epoch 17/20\n",
      "15000/15000 [==============================] - 3s 173us/step - loss: 0.0126 - binary_accuracy: 0.9983 - val_loss: 0.5975 - val_binary_accuracy: 0.8671\n",
      "Epoch 18/20\n",
      "15000/15000 [==============================] - 3s 168us/step - loss: 0.0108 - binary_accuracy: 0.9981 - val_loss: 0.6282 - val_binary_accuracy: 0.8673\n",
      "Epoch 19/20\n",
      "15000/15000 [==============================] - 3s 169us/step - loss: 0.0068 - binary_accuracy: 0.9995 - val_loss: 0.7551 - val_binary_accuracy: 0.8515\n",
      "Epoch 20/20\n",
      "15000/15000 [==============================] - 3s 169us/step - loss: 0.0050 - binary_accuracy: 0.9997 - val_loss: 0.6888 - val_binary_accuracy: 0.8658\n"
     ]
    }
   ],
   "source": [
    "history = model.fit(partial_x_train,\n",
    "                    partial_y_train,\n",
    "                    epochs=20,\n",
    "                    batch_size=512,\n",
    "                    validation_data=(x_val, y_val))"
   ]
  },
  {
   "cell_type": "markdown",
   "metadata": {},
   "source": [
    "On CPU, this will take less than two seconds per epoch -- training is over in 20 seconds. At the end of every epoch, there is a slight pause \n",
    "as the model computes its loss and accuracy on the 10,000 samples of the validation data.\n",
    "\n",
    "Note that the call to `model.fit()` returns a `History` object. This object has a member `history`, which is a dictionary containing data \n",
    "about everything that happened during training. Let's take a look at it:"
   ]
  },
  {
   "cell_type": "code",
   "execution_count": 22,
   "metadata": {},
   "outputs": [
    {
     "data": {
      "text/plain": [
       "dict_keys(['val_loss', 'val_binary_accuracy', 'loss', 'binary_accuracy'])"
      ]
     },
     "execution_count": 22,
     "metadata": {},
     "output_type": "execute_result"
    }
   ],
   "source": [
    "history_dict = history.history\n",
    "history_dict.keys()"
   ]
  },
  {
   "cell_type": "markdown",
   "metadata": {},
   "source": [
    "It contains 4 entries: one per metric that was being monitored, during training and during validation. Let's use Matplotlib to plot the \n",
    "training and validation loss side by side, as well as the training and validation accuracy:"
   ]
  },
  {
   "cell_type": "code",
   "execution_count": 24,
   "metadata": {},
   "outputs": [
    {
     "data": {
      "image/png": "[encoded data removed]",
      "text/plain": [
       "<Figure size 432x288 with 1 Axes>"
      ]
     },
     "metadata": {
      "needs_background": "light"
     },
     "output_type": "display_data"
    }
   ],
   "source": [
    "import matplotlib.pyplot as plt\n",
    "\n",
    "acc = history.history['binary_accuracy']\n",
    "val_acc = history.history['val_binary_accuracy']\n",
    "loss = history.history['loss']\n",
    "val_loss = history.history['val_loss']\n",
    "\n",
    "epochs = range(1, len(acc) + 1)\n",
    "\n",
    "# \"bo\" is for \"blue dot\"\n",
    "plt.plot(epochs, loss, 'bo', label='Training loss')\n",
    "# b is for \"solid blue line\"\n",
    "plt.plot(epochs, val_loss, 'b', label='Validation loss')\n",
    "plt.title('Training and validation loss')\n",
    "plt.xlabel('Epochs')\n",
    "plt.ylabel('Loss')\n",
    "plt.legend()\n",
    "\n",
    "plt.show()"
   ]
  },
  {
   "cell_type": "code",
   "execution_count": 26,
   "metadata": {},
   "outputs": [
    {
     "data": {
      "image/png": "[encoded data removed]",
      "text/plain": [
       "<Figure size 432x288 with 1 Axes>"
      ]
     },
     "metadata": {
      "needs_background": "light"
     },
     "output_type": "display_data"
    }
   ],
   "source": [
    "plt.clf()   # clear figure\n",
    "acc_values = history_dict['binary_accuracy']\n",
    "val_acc_values = history_dict['val_binary_accuracy']\n",
    "\n",
    "plt.plot(epochs, acc, 'bo', label='Training acc')\n",
    "plt.plot(epochs, val_acc, 'b', label='Validation acc')\n",
    "plt.title('Training and validation accuracy')\n",
    "plt.xlabel('Epochs')\n",
    "plt.ylabel('Loss')\n",
    "plt.legend()\n",
    "\n",
    "plt.show()"
   ]
  },
  {
   "cell_type": "markdown",
   "metadata": {},
   "source": [
    "\n",
    "The dots are the training loss and accuracy, while the solid lines are the validation loss and accuracy. Note that your own results may vary \n",
    "slightly due to a different random initialization of your network.\n",
    "\n",
    "As you can see, the training loss decreases with every epoch and the training accuracy increases with every epoch. That's what you would \n",
    "expect when running gradient descent optimization -- the quantity you are trying to minimize should get lower with every iteration. But that \n",
    "isn't the case for the validation loss and accuracy: they seem to peak at the fourth epoch. This is an example of what we were warning \n",
    "against earlier: a model that performs better on the training data isn't necessarily a model that will do better on data it has never seen \n",
    "before. In precise terms, what you are seeing is \"overfitting\": after the second epoch, we are over-optimizing on the training data, and we \n",
    "ended up learning representations that are specific to the training data and do not generalize to data outside of the training set.\n",
    "\n",
    "In this case, to prevent overfitting, we could simply stop training after three epochs. In general, there is a range of techniques you can \n",
    "leverage to mitigate overfitting, which we will cover in the next chapter.\n",
    "\n",
    "Let's train a new network from scratch for four epochs, then evaluate it on our test data:"
   ]
  },
  {
   "cell_type": "code",
   "execution_count": 27,
   "metadata": {},
   "outputs": [
    {
     "name": "stdout",
     "output_type": "stream",
     "text": [
      "Epoch 1/4\n",
      "25000/25000 [==============================] - 4s 150us/step - loss: 0.4740 - acc: 0.8215\n",
      "Epoch 2/4\n",
      "25000/25000 [==============================] - 3s 130us/step - loss: 0.2676 - acc: 0.9092\n",
      "Epoch 3/4\n",
      "25000/25000 [==============================] - 3s 130us/step - loss: 0.2033 - acc: 0.9286\n",
      "Epoch 4/4\n",
      "25000/25000 [==============================] - 3s 133us/step - loss: 0.1713 - acc: 0.9387\n",
      "25000/25000 [==============================] - 7s 270us/step\n"
     ]
    }
   ],
   "source": [
    "model = models.Sequential()\n",
    "model.add(layers.Dense(16, activation='relu', input_shape=(10000,)))\n",
    "model.add(layers.Dense(16, activation='relu'))\n",
    "model.add(layers.Dense(1, activation='sigmoid'))\n",
    "\n",
    "model.compile(optimizer='rmsprop',\n",
    "              loss='binary_crossentropy',\n",
    "              metrics=['accuracy'])\n",
    "\n",
    "model.fit(x_train, y_train, epochs=4, batch_size=512)\n",
    "results = model.evaluate(x_test, y_test)"
   ]
  },
  {
   "cell_type": "code",
   "execution_count": 28,
   "metadata": {},
   "outputs": [
    {
     "data": {
      "text/plain": [
       "[0.31186147342681886, 0.87588]"
      ]
     },
     "execution_count": 28,
     "metadata": {},
     "output_type": "execute_result"
    }
   ],
   "source": [
    "results"
   ]
  },
  {
   "cell_type": "markdown",
   "metadata": {},
   "source": [
    "Our fairly naive approach achieves an accuracy of 88%. With state-of-the-art approaches, one should be able to get close to 95%."
   ]
  },
  {
   "cell_type": "markdown",
   "metadata": {},
   "source": [
    "## Using a trained network to generate predictions on new data\n",
    "\n",
    "After having trained a network, you will want to use it in a practical setting. You can generate the likelihood of reviews being positive \n",
    "by using the `predict` method:"
   ]
  },
  {
   "cell_type": "code",
   "execution_count": 29,
   "metadata": {},
   "outputs": [
    {
     "data": {
      "text/plain": [
       "array([[0.16160974],\n",
       "       [0.99985313],\n",
       "       [0.3847837 ],\n",
       "       ...,\n",
       "       [0.08136335],\n",
       "       [0.04826325],\n",
       "       [0.46958482]], dtype=float32)"
      ]
     },
     "execution_count": 29,
     "metadata": {},
     "output_type": "execute_result"
    }
   ],
   "source": [
    "model.predict(x_test)"
   ]
  },
  {
   "cell_type": "markdown",
   "metadata": {},
   "source": [
    "As you can see, the network is very confident for some samples (0.99 or more, or 0.01 or less) but less confident for others (0.6, 0.4). \n"
   ]
  },
  {
   "cell_type": "markdown",
   "metadata": {},
   "source": [
    "## Further experiments 1\n",
    "\n",
    "\n",
    "* We were using 2 hidden layers. Try to use 1 or 3 hidden layers and see how it affects validation and test accuracy.\n"
   ]
  },
  {
   "cell_type": "code",
   "execution_count": 33,
   "metadata": {},
   "outputs": [
    {
     "name": "stdout",
     "output_type": "stream",
     "text": [
      "_________________________________________________________________\n",
      "Layer (type)                 Output Shape              Param #   \n",
      "=================================================================\n",
      "dense_11 (Dense)             (None, 16)                160016    \n",
      "_________________________________________________________________\n",
      "dense_12 (Dense)             (None, 1)                 17        \n",
      "=================================================================\n",
      "Total params: 160,033\n",
      "Trainable params: 160,033\n",
      "Non-trainable params: 0\n",
      "_________________________________________________________________\n",
      "Train on 15000 samples, validate on 10000 samples\n",
      "Epoch 1/20\n",
      "15000/15000 [==============================] - 5s 325us/step - loss: 0.4936 - binary_accuracy: 0.7994 - val_loss: 0.3834 - val_binary_accuracy: 0.8709\n",
      "Epoch 2/20\n",
      "15000/15000 [==============================] - 4s 245us/step - loss: 0.3110 - binary_accuracy: 0.9041 - val_loss: 0.3145 - val_binary_accuracy: 0.8868\n",
      "Epoch 3/20\n",
      "15000/15000 [==============================] - 3s 204us/step - loss: 0.2409 - binary_accuracy: 0.9258 - val_loss: 0.2886 - val_binary_accuracy: 0.8901\n",
      "Epoch 4/20\n",
      "15000/15000 [==============================] - 3s 195us/step - loss: 0.1976 - binary_accuracy: 0.9379 - val_loss: 0.2754 - val_binary_accuracy: 0.8931\n",
      "Epoch 5/20\n",
      "15000/15000 [==============================] - 3s 193us/step - loss: 0.1682 - binary_accuracy: 0.9494 - val_loss: 0.2740 - val_binary_accuracy: 0.8905\n",
      "Epoch 6/20\n",
      "15000/15000 [==============================] - 3s 213us/step - loss: 0.1435 - binary_accuracy: 0.9599 - val_loss: 0.2883 - val_binary_accuracy: 0.8815\n",
      "Epoch 7/20\n",
      "15000/15000 [==============================] - 3s 197us/step - loss: 0.1264 - binary_accuracy: 0.9629 - val_loss: 0.2841 - val_binary_accuracy: 0.8859\n",
      "Epoch 8/20\n",
      "15000/15000 [==============================] - 3s 194us/step - loss: 0.1097 - binary_accuracy: 0.9705 - val_loss: 0.2914 - val_binary_accuracy: 0.8885\n",
      "Epoch 9/20\n",
      "15000/15000 [==============================] - 3s 197us/step - loss: 0.0970 - binary_accuracy: 0.9757 - val_loss: 0.3002 - val_binary_accuracy: 0.8829\n",
      "Epoch 10/20\n",
      "15000/15000 [==============================] - 4s 271us/step - loss: 0.0858 - binary_accuracy: 0.9777 - val_loss: 0.3168 - val_binary_accuracy: 0.8845\n",
      "Epoch 11/20\n",
      "15000/15000 [==============================] - 4s 253us/step - loss: 0.0764 - binary_accuracy: 0.9813 - val_loss: 0.3229 - val_binary_accuracy: 0.8818\n",
      "Epoch 12/20\n",
      "15000/15000 [==============================] - 3s 216us/step - loss: 0.0670 - binary_accuracy: 0.9847 - val_loss: 0.3354 - val_binary_accuracy: 0.8800\n",
      "Epoch 13/20\n",
      "15000/15000 [==============================] - 4s 242us/step - loss: 0.0599 - binary_accuracy: 0.9868 - val_loss: 0.3567 - val_binary_accuracy: 0.8802\n",
      "Epoch 14/20\n",
      "15000/15000 [==============================] - 3s 213us/step - loss: 0.0517 - binary_accuracy: 0.9902 - val_loss: 0.3630 - val_binary_accuracy: 0.8779\n",
      "Epoch 15/20\n",
      "15000/15000 [==============================] - 3s 215us/step - loss: 0.0465 - binary_accuracy: 0.9914 - val_loss: 0.4022 - val_binary_accuracy: 0.8756\n",
      "Epoch 16/20\n",
      "15000/15000 [==============================] - 3s 225us/step - loss: 0.0411 - binary_accuracy: 0.9929 - val_loss: 0.4042 - val_binary_accuracy: 0.8706\n",
      "Epoch 17/20\n",
      "15000/15000 [==============================] - 4s 253us/step - loss: 0.0358 - binary_accuracy: 0.9947 - val_loss: 0.4106 - val_binary_accuracy: 0.8747\n",
      "Epoch 18/20\n",
      "15000/15000 [==============================] - 4s 245us/step - loss: 0.0320 - binary_accuracy: 0.9950 - val_loss: 0.4426 - val_binary_accuracy: 0.8663\n",
      "Epoch 19/20\n",
      "15000/15000 [==============================] - 3s 223us/step - loss: 0.0271 - binary_accuracy: 0.9965 - val_loss: 0.4437 - val_binary_accuracy: 0.8715\n",
      "Epoch 20/20\n",
      "15000/15000 [==============================] - 3s 202us/step - loss: 0.0239 - binary_accuracy: 0.9973 - val_loss: 0.4750 - val_binary_accuracy: 0.8705\n"
     ]
    }
   ],
   "source": [
    "# Try to use 1 hideen laryer\n",
    "\n",
    "from keras import models\n",
    "from keras import layers\n",
    "\n",
    "model = models.Sequential()\n",
    "model.add(layers.Dense(16, activation='relu', input_shape=(10000,)))\n",
    "model.add(layers.Dense(1, activation='sigmoid'))\n",
    "model.summary()\n",
    "model.compile(optimizer=optimizers.RMSprop(lr=0.001), loss=losses.binary_crossentropy, metrics=[metrics.binary_accuracy])\n",
    "history_1_hidden_layer = model.fit(partial_x_train, \n",
    "                                   partial_y_train, \n",
    "                                   epochs=20, \n",
    "                                   batch_size=512, \n",
    "                                   validation_data=(x_val, y_val))"
   ]
  },
  {
   "cell_type": "code",
   "execution_count": 49,
   "metadata": {},
   "outputs": [
    {
     "data": {
      "image/png": "[encoded data removed]",
      "text/plain": [
       "<Figure size 432x288 with 1 Axes>"
      ]
     },
     "metadata": {
      "needs_background": "light"
     },
     "output_type": "display_data"
    }
   ],
   "source": [
    "# to visualize how it affects validation and test accuracy.\n",
    "\n",
    "acc = history_1_hidden_layer.history['binary_accuracy']\n",
    "val_acc = history_1_hidden_layer.history['val_binary_accuracy']\n",
    "loss = history_1_hidden_layer.history['loss']\n",
    "val_loss =history_1_hidden_layer.history['val_loss']\n",
    "\n",
    "epochs = range(1, len(acc) + 1)\n",
    "\n",
    "# \"bo\" is for \"blue dot\"\n",
    "plt.plot(epochs, loss, 'bo', label='Training loss')\n",
    "# b is for \"solid blue line\"\n",
    "plt.plot(epochs, val_loss, 'b', label='Validation loss')\n",
    "plt.title('Training and validation loss')\n",
    "plt.xlabel('Epochs')\n",
    "plt.ylabel('Loss')\n",
    "plt.legend()\n",
    "\n",
    "plt.show()\n"
   ]
  },
  {
   "cell_type": "code",
   "execution_count": 51,
   "metadata": {},
   "outputs": [
    {
     "data": {
      "image/png": "[encoded data removed]",
      "text/plain": [
       "<Figure size 432x288 with 1 Axes>"
      ]
     },
     "metadata": {
      "needs_background": "light"
     },
     "output_type": "display_data"
    }
   ],
   "source": [
    "\n",
    "plt.clf()   # clear figure\n",
    "history_1_hidden_layer_dict = history_1_hidden_layer.history\n",
    "acc_values = history_1_hidden_layer_dict['binary_accuracy']\n",
    "val_acc_values = history_1_hidden_layer_dict['val_binary_accuracy']\n",
    "\n",
    "plt.plot(epochs, acc, 'bo', label='Training acc')\n",
    "plt.plot(epochs, val_acc, 'b', label='Validation acc')\n",
    "plt.title('Training and validation accuracy')\n",
    "plt.xlabel('Epochs')\n",
    "plt.ylabel('Loss')\n",
    "plt.legend()\n",
    "\n",
    "plt.show()"
   ]
  },
  {
   "cell_type": "markdown",
   "metadata": {},
   "source": [
    "## Further experiments 2\n",
    "\n",
    "\n",
    "* Try to use layers with more hidden units or less hidden units: 32 units, 64 units...\n"
   ]
  },
  {
   "cell_type": "code",
   "execution_count": 52,
   "metadata": {},
   "outputs": [
    {
     "name": "stdout",
     "output_type": "stream",
     "text": [
      "_________________________________________________________________\n",
      "Layer (type)                 Output Shape              Param #   \n",
      "=================================================================\n",
      "dense_25 (Dense)             (None, 32)                320032    \n",
      "_________________________________________________________________\n",
      "dense_26 (Dense)             (None, 32)                1056      \n",
      "_________________________________________________________________\n",
      "dense_27 (Dense)             (None, 1)                 33        \n",
      "=================================================================\n",
      "Total params: 321,121\n",
      "Trainable params: 321,121\n",
      "Non-trainable params: 0\n",
      "_________________________________________________________________\n",
      "Train on 15000 samples, validate on 10000 samples\n",
      "Epoch 1/20\n",
      "15000/15000 [==============================] - 4s 291us/step - loss: 0.4836 - binary_accuracy: 0.7821 - val_loss: 0.3928 - val_binary_accuracy: 0.8344\n",
      "Epoch 2/20\n",
      "15000/15000 [==============================] - 3s 226us/step - loss: 0.2727 - binary_accuracy: 0.9034 - val_loss: 0.2876 - val_binary_accuracy: 0.8874\n",
      "Epoch 3/20\n",
      "15000/15000 [==============================] - 3s 222us/step - loss: 0.1960 - binary_accuracy: 0.9325 - val_loss: 0.2771 - val_binary_accuracy: 0.8899\n",
      "Epoch 4/20\n",
      "15000/15000 [==============================] - 3s 230us/step - loss: 0.1595 - binary_accuracy: 0.9433 - val_loss: 0.2843 - val_binary_accuracy: 0.8889\n",
      "Epoch 5/20\n",
      "15000/15000 [==============================] - 4s 295us/step - loss: 0.1192 - binary_accuracy: 0.9612 - val_loss: 0.3011 - val_binary_accuracy: 0.8859\n",
      "Epoch 6/20\n",
      "15000/15000 [==============================] - 4s 274us/step - loss: 0.1018 - binary_accuracy: 0.9675 - val_loss: 0.3468 - val_binary_accuracy: 0.8777\n",
      "Epoch 7/20\n",
      "15000/15000 [==============================] - 4s 244us/step - loss: 0.0809 - binary_accuracy: 0.9757 - val_loss: 0.3735 - val_binary_accuracy: 0.8727\n",
      "Epoch 8/20\n",
      "15000/15000 [==============================] - 3s 225us/step - loss: 0.0650 - binary_accuracy: 0.9800 - val_loss: 0.4130 - val_binary_accuracy: 0.8704\n",
      "Epoch 9/20\n",
      "15000/15000 [==============================] - 3s 226us/step - loss: 0.0541 - binary_accuracy: 0.9832 - val_loss: 0.4092 - val_binary_accuracy: 0.8752\n",
      "Epoch 10/20\n",
      "15000/15000 [==============================] - 3s 232us/step - loss: 0.0401 - binary_accuracy: 0.9889 - val_loss: 0.4380 - val_binary_accuracy: 0.8748\n",
      "Epoch 11/20\n",
      "15000/15000 [==============================] - 3s 228us/step - loss: 0.0368 - binary_accuracy: 0.9894 - val_loss: 0.4692 - val_binary_accuracy: 0.8755\n",
      "Epoch 12/20\n",
      "15000/15000 [==============================] - 3s 230us/step - loss: 0.0319 - binary_accuracy: 0.9915 - val_loss: 0.5032 - val_binary_accuracy: 0.8720\n",
      "Epoch 13/20\n",
      "15000/15000 [==============================] - 3s 231us/step - loss: 0.0124 - binary_accuracy: 0.9992 - val_loss: 0.5379 - val_binary_accuracy: 0.8710\n",
      "Epoch 14/20\n",
      "15000/15000 [==============================] - 3s 224us/step - loss: 0.0241 - binary_accuracy: 0.9937 - val_loss: 0.5726 - val_binary_accuracy: 0.8675\n",
      "Epoch 15/20\n",
      "15000/15000 [==============================] - 3s 221us/step - loss: 0.0232 - binary_accuracy: 0.9934 - val_loss: 0.6030 - val_binary_accuracy: 0.8697\n",
      "Epoch 16/20\n",
      "15000/15000 [==============================] - 3s 213us/step - loss: 0.0052 - binary_accuracy: 0.9999 - val_loss: 0.6190 - val_binary_accuracy: 0.8683\n",
      "Epoch 17/20\n",
      "15000/15000 [==============================] - 3s 212us/step - loss: 0.0145 - binary_accuracy: 0.9959 - val_loss: 0.6526 - val_binary_accuracy: 0.8655\n",
      "Epoch 18/20\n",
      "15000/15000 [==============================] - 3s 214us/step - loss: 0.0031 - binary_accuracy: 0.9999 - val_loss: 0.6858 - val_binary_accuracy: 0.8660\n",
      "Epoch 19/20\n",
      "15000/15000 [==============================] - 3s 217us/step - loss: 0.0115 - binary_accuracy: 0.9965 - val_loss: 0.7104 - val_binary_accuracy: 0.8673\n",
      "Epoch 20/20\n",
      "15000/15000 [==============================] - 3s 217us/step - loss: 0.0020 - binary_accuracy: 0.9999 - val_loss: 0.7364 - val_binary_accuracy: 0.8656\n"
     ]
    }
   ],
   "source": [
    "model = models.Sequential()\n",
    "model.add(layers.Dense(32, activation='relu', input_shape=(10000,)))\n",
    "model.add(layers.Dense(32, activation='relu'))\n",
    "model.add(layers.Dense(1, activation='sigmoid'))\n",
    "model.summary()\n",
    "model.compile(optimizer=optimizers.RMSprop(lr=0.001), loss=losses.binary_crossentropy, metrics=[metrics.binary_accuracy])\n",
    "\n",
    "\n",
    "# Train Model\n",
    "history_2_hidden_layers_32_hidden_unit = model.fit(partial_x_train, \n",
    "                                                   partial_y_train, \n",
    "                                                   epochs=20, \n",
    "                                                   batch_size=512, \n",
    "                                                   validation_data=(x_val, y_val))"
   ]
  },
  {
   "cell_type": "code",
   "execution_count": 53,
   "metadata": {},
   "outputs": [
    {
     "data": {
      "image/png": "[encoded data removed]",
      "text/plain": [
       "<Figure size 432x288 with 1 Axes>"
      ]
     },
     "metadata": {
      "needs_background": "light"
     },
     "output_type": "display_data"
    },
    {
     "data": {
      "image/png": "[encoded data removed]",
      "text/plain": [
       "<Figure size 432x288 with 1 Axes>"
      ]
     },
     "metadata": {
      "needs_background": "light"
     },
     "output_type": "display_data"
    }
   ],
   "source": [
    "acc = history_2_hidden_layers_32_hidden_unit.history['binary_accuracy']\n",
    "val_acc = history_2_hidden_layers_32_hidden_unit.history['val_binary_accuracy']\n",
    "loss = history_2_hidden_layers_32_hidden_unit.history['loss']\n",
    "val_loss = history_2_hidden_layers_32_hidden_unit.history['val_loss']\n",
    "\n",
    "epochs = range(1, len(acc) + 1)\n",
    "\n",
    "# \"bo\" is for \"blue dot\"\n",
    "plt.plot(epochs, loss, 'bo', label='Training loss')\n",
    "# b is for \"solid blue line\"\n",
    "plt.plot(epochs, val_loss, 'b', label='Validation loss')\n",
    "plt.title('Training and validation loss')\n",
    "plt.xlabel('Epochs')\n",
    "plt.ylabel('Loss')\n",
    "plt.legend()\n",
    "\n",
    "plt.show()\n",
    "\n",
    "\n",
    "plt.clf()   # clear figure\n",
    "history_2_hidden_layers_32_hidden_unit_dict = history_2_hidden_layers_32_hidden_unit.history\n",
    "acc_values = history_2_hidden_layers_32_hidden_unit_dict['binary_accuracy']\n",
    "val_acc_values = history_2_hidden_layers_32_hidden_unit_dict['val_binary_accuracy']\n",
    "\n",
    "plt.plot(epochs, acc, 'bo', label='Training acc')\n",
    "plt.plot(epochs, val_acc, 'b', label='Validation acc')\n",
    "plt.title('Training and validation accuracy')\n",
    "plt.xlabel('Epochs')\n",
    "plt.ylabel('Loss')\n",
    "plt.legend()\n",
    "\n",
    "plt.show()"
   ]
  },
  {
   "cell_type": "markdown",
   "metadata": {},
   "source": [
    "## Further experiments 3\n",
    "\n",
    "\n",
    "* Try to use the `mse` loss function instead of `binary_crossentropy`.\n"
   ]
  },
  {
   "cell_type": "code",
   "execution_count": 48,
   "metadata": {},
   "outputs": [
    {
     "name": "stdout",
     "output_type": "stream",
     "text": [
      "_________________________________________________________________\n",
      "Layer (type)                 Output Shape              Param #   \n",
      "=================================================================\n",
      "dense_22 (Dense)             (None, 16)                160016    \n",
      "_________________________________________________________________\n",
      "dense_23 (Dense)             (None, 16)                272       \n",
      "_________________________________________________________________\n",
      "dense_24 (Dense)             (None, 1)                 17        \n",
      "=================================================================\n",
      "Total params: 160,305\n",
      "Trainable params: 160,305\n",
      "Non-trainable params: 0\n",
      "_________________________________________________________________\n",
      "Train on 15000 samples, validate on 10000 samples\n",
      "Epoch 1/20\n",
      "15000/15000 [==============================] - 4s 262us/step - loss: 0.1654 - binary_accuracy: 0.7921 - val_loss: 0.1162 - val_binary_accuracy: 0.8693\n",
      "Epoch 2/20\n",
      "15000/15000 [==============================] - 3s 220us/step - loss: 0.0886 - binary_accuracy: 0.9060 - val_loss: 0.1099 - val_binary_accuracy: 0.8549\n",
      "Epoch 3/20\n",
      "15000/15000 [==============================] - 3s 229us/step - loss: 0.0646 - binary_accuracy: 0.9315 - val_loss: 0.0978 - val_binary_accuracy: 0.8708\n",
      "Epoch 4/20\n",
      "15000/15000 [==============================] - 3s 210us/step - loss: 0.0513 - binary_accuracy: 0.9448 - val_loss: 0.0835 - val_binary_accuracy: 0.8909\n",
      "Epoch 5/20\n",
      "15000/15000 [==============================] - 3s 210us/step - loss: 0.0400 - binary_accuracy: 0.9598 - val_loss: 0.0828 - val_binary_accuracy: 0.8877\n",
      "Epoch 6/20\n",
      "15000/15000 [==============================] - 3s 222us/step - loss: 0.0339 - binary_accuracy: 0.9673 - val_loss: 0.0843 - val_binary_accuracy: 0.8847\n",
      "Epoch 7/20\n",
      "15000/15000 [==============================] - 3s 204us/step - loss: 0.0285 - binary_accuracy: 0.9723 - val_loss: 0.0884 - val_binary_accuracy: 0.8818\n",
      "Epoch 8/20\n",
      "15000/15000 [==============================] - 3s 203us/step - loss: 0.0230 - binary_accuracy: 0.9799 - val_loss: 0.0975 - val_binary_accuracy: 0.8687\n",
      "Epoch 9/20\n",
      "15000/15000 [==============================] - 3s 204us/step - loss: 0.0183 - binary_accuracy: 0.9855 - val_loss: 0.0935 - val_binary_accuracy: 0.8767\n",
      "Epoch 10/20\n",
      "15000/15000 [==============================] - 3s 212us/step - loss: 0.0164 - binary_accuracy: 0.9865 - val_loss: 0.0924 - val_binary_accuracy: 0.8796\n",
      "Epoch 11/20\n",
      "15000/15000 [==============================] - 3s 214us/step - loss: 0.0129 - binary_accuracy: 0.9901 - val_loss: 0.0941 - val_binary_accuracy: 0.8773\n",
      "Epoch 12/20\n",
      "15000/15000 [==============================] - 3s 203us/step - loss: 0.0115 - binary_accuracy: 0.9904 - val_loss: 0.0961 - val_binary_accuracy: 0.8762\n",
      "Epoch 13/20\n",
      "15000/15000 [==============================] - 3s 212us/step - loss: 0.0095 - binary_accuracy: 0.9925 - val_loss: 0.0991 - val_binary_accuracy: 0.8746\n",
      "Epoch 14/20\n",
      "15000/15000 [==============================] - 3s 212us/step - loss: 0.0068 - binary_accuracy: 0.9952 - val_loss: 0.1032 - val_binary_accuracy: 0.8695\n",
      "Epoch 15/20\n",
      "15000/15000 [==============================] - 3s 215us/step - loss: 0.0069 - binary_accuracy: 0.9947 - val_loss: 0.1019 - val_binary_accuracy: 0.8711\n",
      "Epoch 16/20\n",
      "15000/15000 [==============================] - 4s 272us/step - loss: 0.0060 - binary_accuracy: 0.9951 - val_loss: 0.1044 - val_binary_accuracy: 0.8700\n",
      "Epoch 17/20\n",
      "15000/15000 [==============================] - 4s 267us/step - loss: 0.0046 - binary_accuracy: 0.9964 - val_loss: 0.1059 - val_binary_accuracy: 0.8692\n",
      "Epoch 18/20\n",
      "15000/15000 [==============================] - 3s 205us/step - loss: 0.0037 - binary_accuracy: 0.9971 - val_loss: 0.1076 - val_binary_accuracy: 0.8658\n",
      "Epoch 19/20\n",
      "15000/15000 [==============================] - 3s 205us/step - loss: 0.0049 - binary_accuracy: 0.9955 - val_loss: 0.1083 - val_binary_accuracy: 0.8656\n",
      "Epoch 20/20\n",
      "15000/15000 [==============================] - 3s 212us/step - loss: 0.0030 - binary_accuracy: 0.9972 - val_loss: 0.1112 - val_binary_accuracy: 0.8639\n"
     ]
    }
   ],
   "source": [
    "model = models.Sequential()\n",
    "model.add(layers.Dense(16, activation='relu', input_shape=(10000,)))\n",
    "model.add(layers.Dense(16, activation='relu'))\n",
    "model.add(layers.Dense(1, activation='sigmoid'))\n",
    "model.summary()\n",
    "\n",
    "model.compile(optimizer=optimizers.RMSprop(lr=0.001), loss=losses.mean_squared_error, metrics=[metrics.binary_accuracy])\n",
    "\n",
    "\n",
    "# Train Model\n",
    "history_2_hidden_layers_MSE = model.fit(partial_x_train, \n",
    "                                        partial_y_train, \n",
    "                                        epochs=20, \n",
    "                                        batch_size=512, \n",
    "                                        validation_data=(x_val, y_val))"
   ]
  },
  {
   "cell_type": "code",
   "execution_count": 54,
   "metadata": {},
   "outputs": [
    {
     "data": {
      "image/png": "[encoded data removed]",
      "text/plain": [
       "<Figure size 432x288 with 1 Axes>"
      ]
     },
     "metadata": {
      "needs_background": "light"
     },
     "output_type": "display_data"
    },
    {
     "data": {
      "image/png": "[encoded data removed]",
      "text/plain": [
       "<Figure size 432x288 with 1 Axes>"
      ]
     },
     "metadata": {
      "needs_background": "light"
     },
     "output_type": "display_data"
    }
   ],
   "source": [
    "acc = history_2_hidden_layers_MSE.history['binary_accuracy']\n",
    "val_acc = history_2_hidden_layers_MSE.history['val_binary_accuracy']\n",
    "loss = history_2_hidden_layers_MSE.history['loss']\n",
    "val_loss = history_2_hidden_layers_MSE.history['val_loss']\n",
    "\n",
    "epochs = range(1, len(acc) + 1)\n",
    "\n",
    "# \"bo\" is for \"blue dot\"\n",
    "plt.plot(epochs, loss, 'bo', label='Training loss')\n",
    "# b is for \"solid blue line\"\n",
    "plt.plot(epochs, val_loss, 'b', label='Validation loss')\n",
    "plt.title('Training and validation loss')\n",
    "plt.xlabel('Epochs')\n",
    "plt.ylabel('Loss')\n",
    "plt.legend()\n",
    "\n",
    "plt.show()\n",
    "\n",
    "\n",
    "\n",
    "plt.clf()   # clear figure\n",
    "history_2_hidden_layers_MSE_dict = history_2_hidden_layers_MSE.history\n",
    "acc_values = history_2_hidden_layers_MSE_dict['binary_accuracy']\n",
    "val_acc_values = history_2_hidden_layers_MSE_dict['val_binary_accuracy']\n",
    "\n",
    "plt.plot(epochs, acc, 'bo', label='Training acc')\n",
    "plt.plot(epochs, val_acc, 'b', label='Validation acc')\n",
    "plt.title('Training and validation accuracy')\n",
    "plt.xlabel('Epochs')\n",
    "plt.ylabel('Loss')\n",
    "plt.legend()\n",
    "\n",
    "plt.show()"
   ]
  },
  {
   "cell_type": "markdown",
   "metadata": {},
   "source": [
    "## Further experiments 4\n",
    "\n",
    "* Try to use the `tanh` activation (an activation that was popular in the early days of neural networks) instead of `relu`.\n",
    "\n"
   ]
  },
  {
   "cell_type": "code",
   "execution_count": 55,
   "metadata": {},
   "outputs": [
    {
     "name": "stdout",
     "output_type": "stream",
     "text": [
      "_________________________________________________________________\n",
      "Layer (type)                 Output Shape              Param #   \n",
      "=================================================================\n",
      "dense_28 (Dense)             (None, 16)                160016    \n",
      "_________________________________________________________________\n",
      "dense_29 (Dense)             (None, 16)                272       \n",
      "_________________________________________________________________\n",
      "dense_30 (Dense)             (None, 1)                 17        \n",
      "=================================================================\n",
      "Total params: 160,305\n",
      "Trainable params: 160,305\n",
      "Non-trainable params: 0\n",
      "_________________________________________________________________\n",
      "Train on 15000 samples, validate on 10000 samples\n",
      "Epoch 1/20\n",
      "15000/15000 [==============================] - 5s 315us/step - loss: 0.4919 - binary_accuracy: 0.7905 - val_loss: 0.3569 - val_binary_accuracy: 0.8728\n",
      "Epoch 2/20\n",
      "15000/15000 [==============================] - 3s 211us/step - loss: 0.2717 - binary_accuracy: 0.9107 - val_loss: 0.2969 - val_binary_accuracy: 0.8832\n",
      "Epoch 3/20\n",
      "15000/15000 [==============================] - 4s 255us/step - loss: 0.1928 - binary_accuracy: 0.9326 - val_loss: 0.2706 - val_binary_accuracy: 0.8896\n",
      "Epoch 4/20\n",
      "15000/15000 [==============================] - 3s 211us/step - loss: 0.1440 - binary_accuracy: 0.9512 - val_loss: 0.2858 - val_binary_accuracy: 0.8849\n",
      "Epoch 5/20\n",
      "15000/15000 [==============================] - 3s 211us/step - loss: 0.1178 - binary_accuracy: 0.9583 - val_loss: 0.3090 - val_binary_accuracy: 0.8851\n",
      "Epoch 6/20\n",
      "15000/15000 [==============================] - 3s 209us/step - loss: 0.0859 - binary_accuracy: 0.9724 - val_loss: 0.3824 - val_binary_accuracy: 0.8730\n",
      "Epoch 7/20\n",
      "15000/15000 [==============================] - 3s 212us/step - loss: 0.0656 - binary_accuracy: 0.9799 - val_loss: 0.3786 - val_binary_accuracy: 0.8781\n",
      "Epoch 8/20\n",
      "15000/15000 [==============================] - 3s 212us/step - loss: 0.0488 - binary_accuracy: 0.9866 - val_loss: 0.4311 - val_binary_accuracy: 0.8747\n",
      "Epoch 9/20\n",
      "15000/15000 [==============================] - 3s 226us/step - loss: 0.0429 - binary_accuracy: 0.9869 - val_loss: 0.4711 - val_binary_accuracy: 0.8748\n",
      "Epoch 10/20\n",
      "15000/15000 [==============================] - 3s 212us/step - loss: 0.0394 - binary_accuracy: 0.9881 - val_loss: 0.5071 - val_binary_accuracy: 0.8702\n",
      "Epoch 11/20\n",
      "15000/15000 [==============================] - 3s 213us/step - loss: 0.0263 - binary_accuracy: 0.9927 - val_loss: 0.5436 - val_binary_accuracy: 0.8684\n",
      "Epoch 12/20\n",
      "15000/15000 [==============================] - 3s 211us/step - loss: 0.0261 - binary_accuracy: 0.9927 - val_loss: 0.5807 - val_binary_accuracy: 0.8658\n",
      "Epoch 13/20\n",
      "15000/15000 [==============================] - 3s 214us/step - loss: 0.0077 - binary_accuracy: 0.9989 - val_loss: 0.7109 - val_binary_accuracy: 0.8473\n",
      "Epoch 14/20\n",
      "15000/15000 [==============================] - 3s 206us/step - loss: 0.0227 - binary_accuracy: 0.9942 - val_loss: 0.6576 - val_binary_accuracy: 0.8658\n",
      "Epoch 15/20\n",
      "15000/15000 [==============================] - 3s 216us/step - loss: 0.0033 - binary_accuracy: 0.9997 - val_loss: 0.7069 - val_binary_accuracy: 0.8622\n",
      "Epoch 16/20\n",
      "15000/15000 [==============================] - 3s 208us/step - loss: 0.0065 - binary_accuracy: 0.9983 - val_loss: 0.8382 - val_binary_accuracy: 0.8470\n",
      "Epoch 17/20\n",
      "15000/15000 [==============================] - 3s 222us/step - loss: 0.0021 - binary_accuracy: 0.9998 - val_loss: 0.7615 - val_binary_accuracy: 0.8627\n",
      "Epoch 18/20\n",
      "15000/15000 [==============================] - 3s 212us/step - loss: 8.8421e-04 - binary_accuracy: 1.0000 - val_loss: 0.8036 - val_binary_accuracy: 0.8620\n",
      "Epoch 19/20\n",
      "15000/15000 [==============================] - 3s 231us/step - loss: 0.0189 - binary_accuracy: 0.9949 - val_loss: 0.8465 - val_binary_accuracy: 0.8592\n",
      "Epoch 20/20\n",
      "15000/15000 [==============================] - 3s 214us/step - loss: 4.9573e-04 - binary_accuracy: 1.0000 - val_loss: 0.8556 - val_binary_accuracy: 0.8623\n"
     ]
    }
   ],
   "source": [
    "model = models.Sequential()\n",
    "model.add(layers.Dense(16, activation='tanh', input_shape=(10000,)))\n",
    "model.add(layers.Dense(16, activation='tanh'))\n",
    "model.add(layers.Dense(1, activation='sigmoid'))\n",
    "model.summary()\n",
    "\n",
    "from keras import losses\n",
    "from keras import metrics\n",
    "\n",
    "model.compile(optimizer=optimizers.RMSprop(lr=0.001), loss=losses.binary_crossentropy, metrics=[metrics.binary_accuracy])\n",
    "\n",
    "\n",
    "# Train Model\n",
    "history_2_hidden_layers_tanh = model.fit(partial_x_train, \n",
    "                                         partial_y_train, \n",
    "                                         epochs=20, \n",
    "                                         batch_size=512, \n",
    "                                         validation_data=(x_val, y_val))"
   ]
  },
  {
   "cell_type": "code",
   "execution_count": 56,
   "metadata": {},
   "outputs": [
    {
     "data": {
      "image/png": "[encoded data removed]",
      "text/plain": [
       "<Figure size 432x288 with 1 Axes>"
      ]
     },
     "metadata": {
      "needs_background": "light"
     },
     "output_type": "display_data"
    },
    {
     "data": {
      "image/png": "[encoded data removed]",
      "text/plain": [
       "<Figure size 432x288 with 1 Axes>"
      ]
     },
     "metadata": {
      "needs_background": "light"
     },
     "output_type": "display_data"
    }
   ],
   "source": [
    "acc = history_2_hidden_layers_tanh.history['binary_accuracy']\n",
    "val_acc = history_2_hidden_layers_tanh.history['val_binary_accuracy']\n",
    "loss = history_2_hidden_layers_tanh.history['loss']\n",
    "val_loss = history_2_hidden_layers_tanh.history['val_loss']\n",
    "\n",
    "epochs = range(1, len(acc) + 1)\n",
    "\n",
    "# \"bo\" is for \"blue dot\"\n",
    "plt.plot(epochs, loss, 'bo', label='Training loss')\n",
    "# b is for \"solid blue line\"\n",
    "plt.plot(epochs, val_loss, 'b', label='Validation loss')\n",
    "plt.title('Training and validation loss')\n",
    "plt.xlabel('Epochs')\n",
    "plt.ylabel('Loss')\n",
    "plt.legend()\n",
    "\n",
    "plt.show()\n",
    "\n",
    "plt.clf()   # clear figure\n",
    "history_2_hidden_layers_tanh_dict = history_2_hidden_layers_tanh.history\n",
    "acc_values = history_2_hidden_layers_MSE_dict['binary_accuracy']\n",
    "val_acc_values = history_2_hidden_layers_MSE_dict['val_binary_accuracy']\n",
    "\n",
    "plt.plot(epochs, acc, 'bo', label='Training acc')\n",
    "plt.plot(epochs, val_acc, 'b', label='Validation acc')\n",
    "plt.title('Training and validation accuracy')\n",
    "plt.xlabel('Epochs')\n",
    "plt.ylabel('Loss')\n",
    "plt.legend()\n",
    "\n",
    "plt.show()"
   ]
  },
  {
   "cell_type": "code",
   "execution_count": null,
   "metadata": {},
   "outputs": [],
   "source": []
  },
  {
   "cell_type": "markdown",
   "metadata": {},
   "source": [
    "## Conclusions\n",
    "\n",
    "\n",
    "Here's what you should take away from this example:\n",
    "\n",
    "* There's usually quite a bit of preprocessing you need to do on your raw data in order to be able to feed it -- as tensors -- into a neural \n",
    "network. In the case of sequences of words, they can be encoded as binary vectors -- but there are other encoding options too.\n",
    "* Stacks of `Dense` layers with `relu` activations can solve a wide range of problems (including sentiment classification), and you will \n",
    "likely use them frequently.\n",
    "* In a binary classification problem (two output classes), your network should end with a `Dense` layer with 1 unit and a `sigmoid` activation, \n",
    "i.e. the output of your network should be a scalar between 0 and 1, encoding a probability.\n",
    "* With such a scalar sigmoid output, on a binary classification problem, the loss function you should use is `binary_crossentropy`.\n",
    "* The `rmsprop` optimizer is generally a good enough choice of optimizer, whatever your problem. That's one less thing for you to worry \n",
    "about.\n",
    "* As they get better on their training data, neural networks eventually start _overfitting_ and end up obtaining increasingly worse results on data \n",
    "never-seen-before. Make sure to always monitor performance on data that is outside of the training set.\n"
   ]
  }
 ],
 "metadata": {
  "kernelspec": {
   "display_name": "Python 3",
   "language": "python",
   "name": "python3"
  },
  "language_info": {
   "codemirror_mode": {
    "name": "ipython",
    "version": 3
   },
   "file_extension": ".py",
   "mimetype": "text/x-python",
   "name": "python",
   "nbconvert_exporter": "python",
   "pygments_lexer": "ipython3",
   "version": "3.7.4"
  }
 },
 "nbformat": 4,
 "nbformat_minor": 2
}
